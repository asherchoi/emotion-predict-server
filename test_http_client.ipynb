{
 "cells": [
  {
   "cell_type": "code",
   "execution_count": 154,
   "metadata": {},
   "outputs": [],
   "source": [
    "import http.client\n",
    "import time\n",
    "import urllib"
   ]
  },
  {
   "cell_type": "code",
   "execution_count": 196,
   "metadata": {},
   "outputs": [
    {
     "name": "stdout",
     "output_type": "stream",
     "text": [
      "send: b'PUT http://mclab.hufs.ac.kr/wiki/Main_Page HTTP/1.1\\r\\nHost: mclab.hufs.ac.kr\\r\\nAccept-Encoding: identity\\r\\nContent-Length: 5\\r\\nconnection: keep-alive\\r\\n\\r\\n'\n",
      "send: b'hello'\n",
      "reply: 'HTTP/1.1 200 OK\\r\\n'\n",
      "header: Date header: Server header: X-Powered-By header: X-Content-Type-Options header: Content-language header: Vary header: Expires header: Cache-Control header: Last-Modified header: Keep-Alive header: Connection header: Transfer-Encoding header: Content-Type "
     ]
    },
    {
     "data": {
      "text/plain": [
       "[('Date', 'Mon, 30 Jul 2018 11:32:49 GMT'),\n",
       " ('Server', 'Apache/2.2.22 (Ubuntu)'),\n",
       " ('X-Powered-By', 'PHP/5.3.10-1ubuntu3.10'),\n",
       " ('X-Content-Type-Options', 'nosniff'),\n",
       " ('Content-language', 'en'),\n",
       " ('Vary', 'Accept-Encoding,Cookie'),\n",
       " ('Expires', 'Thu, 01 Jan 1970 00:00:00 GMT'),\n",
       " ('Cache-Control', 'private, must-revalidate, max-age=0'),\n",
       " ('Last-Modified', 'Mon, 19 Mar 2018 05:59:11 GMT'),\n",
       " ('Keep-Alive', 'timeout=5, max=100'),\n",
       " ('Connection', 'Keep-Alive'),\n",
       " ('Transfer-Encoding', 'chunked'),\n",
       " ('Content-Type', 'text/html; charset=UTF-8')]"
      ]
     },
     "execution_count": 196,
     "metadata": {},
     "output_type": "execute_result"
    }
   ],
   "source": [
    "# host = 'www.keti.re.kr'\n",
    "# url = 'http://www.keti.re.kr/'\n",
    "host = 'mclab.hufs.ac.kr'\n",
    "url = 'http://mclab.hufs.ac.kr/wiki/Main_Page'\n",
    "conn = http.client.HTTPConnection(host)\n",
    "conn.set_debuglevel(5)\n",
    "conn.request('PUT', url, body=b'hello', headers={'connection': 'keep-alive'})  # send request\n",
    "response = conn.getresponse()\n",
    "response.getheaders()"
   ]
  },
  {
   "cell_type": "code",
   "execution_count": 200,
   "metadata": {},
   "outputs": [],
   "source": [
    "def test_http_client(url, headers={}):\n",
    "    \"\"\"http.client tester\n",
    "    \"\"\"\n",
    "    n = 1000\n",
    "    first = True\n",
    "    host = urllib.parse.urlparse(url).netloc\n",
    "    conn = http.client.HTTPConnection(host)\n",
    "    start  = time.time()\n",
    "    for i in range(n):\n",
    "        # conn.set_debuglevel(5)\n",
    "        conn.request('PUT', url, body=b'hello', headers=headers)  # send request\n",
    "\n",
    "        response = conn.getresponse()\n",
    "        if first: \n",
    "            print(response.getheader('Connection'), response.getheader('keep-alive'))\n",
    "            first = False\n",
    "        contents = response.read()\n",
    "    elapsed = time.time() - start\n",
    "    conn.close()\n",
    "    print('mean response time:', elapsed/n*1000, 'msec')"
   ]
  },
  {
   "cell_type": "code",
   "execution_count": 198,
   "metadata": {},
   "outputs": [],
   "source": [
    "def test_urlopen(url, headers={}):\n",
    "    n = 1000\n",
    "    first = True\n",
    "    start  = time.time()\n",
    "    for i in range(n):\n",
    "        req = urllib.request.Request(url=url, data=b'hello', headers=headers, method='PUT')\n",
    "        with urllib.request.urlopen(req) as f:\n",
    "            if first:\n",
    "                print(f.info())\n",
    "                first = False\n",
    "            contents = f.read()\n",
    "    elapsed = time.time() - start\n",
    "    print('mean response time:', elapsed/n*1000, 'msec')    "
   ]
  },
  {
   "cell_type": "code",
   "execution_count": 203,
   "metadata": {},
   "outputs": [
    {
     "name": "stdout",
     "output_type": "stream",
     "text": [
      "\n",
      "Non-persistent connection\n",
      "close None\n",
      "mean response time: 19.448193073272705 msec\n",
      "\n",
      "Default\n",
      "keep-alive None\n",
      "mean response time: 7.908337116241455 msec\n",
      "\n",
      "Persistent connection\n",
      "keep-alive None\n",
      "mean response time: 7.974491357803345 msec\n",
      "\n",
      "urlopen\n",
      "Server: nginx\n",
      "Date: Mon, 30 Jul 2018 11:38:45 GMT\n",
      "Content-Type: text/html\n",
      "Transfer-Encoding: chunked\n",
      "Connection: close\n",
      "Vary: Accept-Encoding\n",
      "P3P: CP='NOI CURa ADMa DEVa TAIa OUR DELa BUS IND PHY ONL UNI COM NAV INT DEM PRE'\n",
      "\n",
      "\n",
      "mean response time: 16.847615242004395 msec\n"
     ]
    }
   ],
   "source": [
    "# url = 'http://mclab.hufs.ac.kr/wiki/Main_Page'\n",
    "url = 'http://www.keti.re.kr'\n",
    "\n",
    "print('\\nNon-persistent connection')\n",
    "test_http_client(url, {'connection': 'close'})\n",
    "print('\\nDefault')    # keep-alive, default\n",
    "test_http_client(url)\n",
    "print('\\nPersistent connection')\n",
    "test_http_client(url, {'connection': 'keep-alive'})\n",
    "\n",
    "print('\\nurlopen')\n",
    "test_urlopen(url)"
   ]
  },
  {
   "cell_type": "code",
   "execution_count": null,
   "metadata": {},
   "outputs": [],
   "source": []
  }
 ],
 "metadata": {
  "kernelspec": {
   "display_name": "Python 3",
   "language": "python",
   "name": "python3"
  },
  "language_info": {
   "codemirror_mode": {
    "name": "ipython",
    "version": 3
   },
   "file_extension": ".py",
   "mimetype": "text/x-python",
   "name": "python",
   "nbconvert_exporter": "python",
   "pygments_lexer": "ipython3",
   "version": "3.7.2"
  }
 },
 "nbformat": 4,
 "nbformat_minor": 2
}
